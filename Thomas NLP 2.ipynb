{
 "cells": [
  {
   "cell_type": "code",
   "execution_count": 3,
   "id": "058f5731",
   "metadata": {},
   "outputs": [
    {
     "name": "stderr",
     "output_type": "stream",
     "text": [
      "2025-01-02 12:53:17.010211: I tensorflow/core/platform/cpu_feature_guard.cc:210] This TensorFlow binary is optimized to use available CPU instructions in performance-critical operations.\n",
      "To enable the following instructions: AVX2 FMA, in other operations, rebuild TensorFlow with the appropriate compiler flags.\n"
     ]
    }
   ],
   "source": [
    "import pandas as pd\n",
    "import numpy as np\n",
    "import seaborn as sns\n",
    "import matplotlib.pyplot as plt\n",
    "from sklearn.model_selection import train_test_split\n",
    "from sklearn.feature_extraction.text import TfidfVectorizer\n",
    "from sklearn.metrics import classification_report, accuracy_score\n",
    "from tensorflow.keras.models import Sequential\n",
    "from tensorflow.keras.layers import Dense, Dropout, LSTM, Embedding, Bidirectional\n",
    "from tensorflow.keras.preprocessing.text import Tokenizer\n",
    "from tensorflow.keras.preprocessing.sequence import pad_sequences\n",
    "import requests\n",
    "import json\n",
    "import os"
   ]
  },
  {
   "cell_type": "code",
   "execution_count": 4,
   "id": "e32dc52b",
   "metadata": {},
   "outputs": [],
   "source": [
    "data_path = \"/Users/swigs/Documents/mmakau/social_engineering_dataset.csv\"\n",
    "data = pd.read_csv(data_path)"
   ]
  },
  {
   "cell_type": "code",
   "execution_count": 5,
   "id": "f1302d87",
   "metadata": {},
   "outputs": [],
   "source": [
    "#lets add more examples\n",
    "\n",
    "additional_data = {\n",
    "    \"type\": [\n",
    "        # Vishing examples\n",
    "        \"Vishing\", \"Vishing\", \"Vishing\", \"Vishing\", \"Vishing\",\n",
    "        \"Vishing\", \"Vishing\", \"Vishing\", \"Vishing\", \"Vishing\",\n",
    "        \n",
    "        # Smishing examples\n",
    "        \"Smishing\", \"Smishing\", \"Smishing\", \"Smishing\", \"Smishing\",\n",
    "        \"Smishing\", \"Smishing\", \"Smishing\", \"Smishing\", \"Smishing\",\n",
    "        \n",
    "        # Baiting examples\n",
    "        \"Baiting\", \"Baiting\", \"Baiting\", \"Baiting\", \"Baiting\",\n",
    "        \"Baiting\", \"Baiting\", \"Baiting\", \"Baiting\", \"Baiting\",\n",
    "        \n",
    "        # Quid Pro Quo examples\n",
    "        \"Quid Pro Quo\", \"Quid Pro Quo\", \"Quid Pro Quo\", \"Quid Pro Quo\", \"Quid Pro Quo\",\n",
    "        \"Quid Pro Quo\", \"Quid Pro Quo\", \"Quid Pro Quo\", \"Quid Pro Quo\", \"Quid Pro Quo\",\n",
    "        \n",
    "        # Tailgating examples\n",
    "        \"Tailgating\", \"Tailgating\", \"Tailgating\", \"Tailgating\", \"Tailgating\",\n",
    "        \"Tailgating\", \"Tailgating\", \"Tailgating\", \"Tailgating\", \"Tailgating\"\n",
    "    ],\n",
    "    \"text\": [\n",
    "        # Vishing examples\n",
    "        \"This is a call from [Bank Name]. Suspicious activity detected. Call 1-800-123-4567 immediately.\",\n",
    "        \"Your Social Security number has been flagged. Contact us at 1-888-999-9999.\",\n",
    "        \"We are from [Tech Support]. Please call us to fix your device.\",\n",
    "        \"This is the IRS. Pay your tax balance now by calling 1-800-IRS-FRAUD.\",\n",
    "        \"Your bank account is locked. Call 1-844-BANK-123 for assistance.\",\n",
    "        \"This is [Retailer]. Your account has been charged $500. Call to dispute the charge.\",\n",
    "        \"This is your local police department. Pay your fine to avoid a warrant. Call 1-888-LAW-NOW.\",\n",
    "        \"We are contacting you about an unpaid bill. Resolve it at 1-800-PAY-BILL.\",\n",
    "        \"Your antivirus has expired. Call 1-888-ANTIVIRUS to renew.\",\n",
    "        \"This is [Government Agency]. Verify your identity by calling us now.\",\n",
    "\n",
    "        # Smishing examples\n",
    "        \"You’ve won a $1,000 gift card. Click here to claim: fake-link.com.\",\n",
    "        \"Your package has been delayed. Track your shipment at fake-link.com.\",\n",
    "        \"Update your banking app to avoid suspension: fake-link.com.\",\n",
    "        \"We couldn’t deliver your order. Reschedule here: fake-link.com.\",\n",
    "        \"Your phone bill is overdue. Pay now at fake-link.com.\",\n",
    "        \"Confirm your delivery address to receive your parcel: fake-link.com.\",\n",
    "        \"Your driver’s license needs renewal. Update here: fake-link.com.\",\n",
    "        \"Congratulations! You’ve been selected for a free trial. Sign up here: fake-link.com.\",\n",
    "        \"Suspicious login detected. Secure your account: fake-link.com.\",\n",
    "        \"Activate your new device by logging in here: fake-link.com.\",\n",
    "\n",
    "        # Baiting examples\n",
    "        \"Download this free software to speed up your computer: fake-link.com.\",\n",
    "        \"Click here for a free movie download: fake-link.com.\",\n",
    "        \"Get premium access to [Service] for free: fake-link.com.\",\n",
    "        \"Claim your free cryptocurrency wallet: fake-link.com.\",\n",
    "        \"Exclusive: Download leaked celebrity photos here: fake-link.com.\",\n",
    "        \"Hurry! Free tickets to the concert: fake-link.com.\",\n",
    "        \"Congratulations! Access your free eBook here: fake-link.com.\",\n",
    "        \"Click to receive a free Amazon gift card: fake-link.com.\",\n",
    "        \"Win a free vacation! Sign up now: fake-link.com.\",\n",
    "        \"Download this file to unlock your prize: fake-link.com.\",\n",
    "\n",
    "        # Quid Pro Quo examples\n",
    "        \"Provide your login details to receive a free system upgrade.\",\n",
    "        \"Share your password, and we’ll add extra cloud storage for free.\",\n",
    "        \"Help us test this new app by sharing your account credentials.\",\n",
    "        \"Provide access to your files, and we’ll recover your lost data.\",\n",
    "        \"Share your details to get free tech support.\",\n",
    "        \"Send your banking info for a special cashback reward.\",\n",
    "        \"Let us know your login info to claim an exclusive offer.\",\n",
    "        \"Fill out this form with personal info to receive a free service trial.\",\n",
    "        \"Provide your credentials to get early access to this tool.\",\n",
    "        \"Share your network login for a free security check.\",\n",
    "\n",
    "        # Tailgating examples\n",
    "        \"Hi, this is [Fake Employee]. Can you share today’s access code?\",\n",
    "        \"I forgot my badge. Can you buzz me in?\",\n",
    "        \"We’re here for system maintenance. Let us into the server room.\",\n",
    "        \"I’m new here and locked out of my account. Can you log me in?\",\n",
    "        \"Can you share your password so I can finish this urgent task?\",\n",
    "        \"I left my laptop at home. Can I use yours for this presentation?\",\n",
    "        \"Can you print this file for me using your credentials?\",\n",
    "        \"I’m locked out of the building. Can you open the door for me?\",\n",
    "        \"The CEO asked me to check the data. Can you give me access?\",\n",
    "        \"I’m from IT. I need admin credentials to fix this issue.\"\n",
    "    ]\n",
    "}\n",
    "\n",
    "# Add the additional examples to the existing dataset.\n",
    "additional_df = pd.DataFrame(additional_data)\n",
    "expanded_df = pd.concat([data, additional_df], ignore_index=True)\n",
    "\n",
    "# Save the expanded dataset as a CSV file.\n",
    "#expanded_file_path = \"/mnt/data/expanded_social_engineering_dataset.csv\"\n",
    "\n",
    "\n",
    "#expanded_file_path\n"
   ]
  },
  {
   "cell_type": "code",
   "execution_count": 6,
   "id": "eae8161f",
   "metadata": {},
   "outputs": [],
   "source": [
    "expanded_df.to_csv(\"/Users/swigs/Documents/Mmakau/expanded_social_engineering_dataset.csv\", index=False)"
   ]
  },
  {
   "cell_type": "code",
   "execution_count": 7,
   "id": "f5f8a089",
   "metadata": {},
   "outputs": [
    {
     "data": {
      "text/html": [
       "<div>\n",
       "<style scoped>\n",
       "    .dataframe tbody tr th:only-of-type {\n",
       "        vertical-align: middle;\n",
       "    }\n",
       "\n",
       "    .dataframe tbody tr th {\n",
       "        vertical-align: top;\n",
       "    }\n",
       "\n",
       "    .dataframe thead th {\n",
       "        text-align: right;\n",
       "    }\n",
       "</style>\n",
       "<table border=\"1\" class=\"dataframe\">\n",
       "  <thead>\n",
       "    <tr style=\"text-align: right;\">\n",
       "      <th></th>\n",
       "      <th>type</th>\n",
       "      <th>text</th>\n",
       "    </tr>\n",
       "  </thead>\n",
       "  <tbody>\n",
       "    <tr>\n",
       "      <th>0</th>\n",
       "      <td>Phishing</td>\n",
       "      <td>Your PayPal account has been limited due to su...</td>\n",
       "    </tr>\n",
       "    <tr>\n",
       "      <th>1</th>\n",
       "      <td>Phishing</td>\n",
       "      <td>We’ve detected a virus in your account. Please...</td>\n",
       "    </tr>\n",
       "    <tr>\n",
       "      <th>2</th>\n",
       "      <td>Phishing</td>\n",
       "      <td>Your Netflix subscription has been canceled. T...</td>\n",
       "    </tr>\n",
       "    <tr>\n",
       "      <th>3</th>\n",
       "      <td>Phishing</td>\n",
       "      <td>Amazon: A recent purchase couldn’t be processe...</td>\n",
       "    </tr>\n",
       "    <tr>\n",
       "      <th>4</th>\n",
       "      <td>Phishing</td>\n",
       "      <td>Your email storage is full. Upgrade now to avo...</td>\n",
       "    </tr>\n",
       "    <tr>\n",
       "      <th>...</th>\n",
       "      <td>...</td>\n",
       "      <td>...</td>\n",
       "    </tr>\n",
       "    <tr>\n",
       "      <th>75</th>\n",
       "      <td>Tailgating</td>\n",
       "      <td>I left my laptop at home. Can I use yours for ...</td>\n",
       "    </tr>\n",
       "    <tr>\n",
       "      <th>76</th>\n",
       "      <td>Tailgating</td>\n",
       "      <td>Can you print this file for me using your cred...</td>\n",
       "    </tr>\n",
       "    <tr>\n",
       "      <th>77</th>\n",
       "      <td>Tailgating</td>\n",
       "      <td>I’m locked out of the building. Can you open t...</td>\n",
       "    </tr>\n",
       "    <tr>\n",
       "      <th>78</th>\n",
       "      <td>Tailgating</td>\n",
       "      <td>The CEO asked me to check the data. Can you gi...</td>\n",
       "    </tr>\n",
       "    <tr>\n",
       "      <th>79</th>\n",
       "      <td>Tailgating</td>\n",
       "      <td>I’m from IT. I need admin credentials to fix t...</td>\n",
       "    </tr>\n",
       "  </tbody>\n",
       "</table>\n",
       "<p>80 rows × 2 columns</p>\n",
       "</div>"
      ],
      "text/plain": [
       "          type                                               text\n",
       "0     Phishing  Your PayPal account has been limited due to su...\n",
       "1     Phishing  We’ve detected a virus in your account. Please...\n",
       "2     Phishing  Your Netflix subscription has been canceled. T...\n",
       "3     Phishing  Amazon: A recent purchase couldn’t be processe...\n",
       "4     Phishing  Your email storage is full. Upgrade now to avo...\n",
       "..         ...                                                ...\n",
       "75  Tailgating  I left my laptop at home. Can I use yours for ...\n",
       "76  Tailgating  Can you print this file for me using your cred...\n",
       "77  Tailgating  I’m locked out of the building. Can you open t...\n",
       "78  Tailgating  The CEO asked me to check the data. Can you gi...\n",
       "79  Tailgating  I’m from IT. I need admin credentials to fix t...\n",
       "\n",
       "[80 rows x 2 columns]"
      ]
     },
     "execution_count": 7,
     "metadata": {},
     "output_type": "execute_result"
    }
   ],
   "source": [
    "expanded_df\n"
   ]
  },
  {
   "cell_type": "code",
   "execution_count": 8,
   "id": "9de0699a",
   "metadata": {},
   "outputs": [],
   "source": [
    "# Data Preprocessing\n",
    "X = data['text']  # Input texts\n",
    "y = data['type']  # Labels"
   ]
  },
  {
   "cell_type": "code",
   "execution_count": 9,
   "id": "07b22b4b",
   "metadata": {},
   "outputs": [],
   "source": [
    "# Encode labels as integers\n",
    "from sklearn.preprocessing import LabelEncoder\n",
    "label_encoder = LabelEncoder()\n",
    "y_encoded = label_encoder.fit_transform(y)"
   ]
  },
  {
   "cell_type": "code",
   "execution_count": 10,
   "id": "93e8c4fd",
   "metadata": {},
   "outputs": [],
   "source": [
    "# Split the data into training and testing sets\n",
    "X_train, X_test, y_train, y_test = train_test_split(X, y_encoded, test_size=0.2, random_state=42, stratify=y)"
   ]
  },
  {
   "cell_type": "code",
   "execution_count": 11,
   "id": "3bf42189",
   "metadata": {},
   "outputs": [],
   "source": [
    "# Tokenize text data\n",
    "tokenizer = Tokenizer(num_words=10000, oov_token=\"<OOV>\")\n",
    "tokenizer.fit_on_texts(X_train)\n",
    "X_train_seq = tokenizer.texts_to_sequences(X_train)\n",
    "X_test_seq = tokenizer.texts_to_sequences(X_test)\n"
   ]
  },
  {
   "cell_type": "code",
   "execution_count": 12,
   "id": "4c4ffed7",
   "metadata": {},
   "outputs": [
    {
     "data": {
      "image/png": "[encoded data removed]",
      "text/plain": [
       "<Figure size 1200x600 with 1 Axes>"
      ]
     },
     "metadata": {},
     "output_type": "display_data"
    }
   ],
   "source": [
    "# Visualize the frequency of top words\n",
    "word_counts = tokenizer.word_counts\n",
    "sorted_word_counts = sorted(word_counts.items(), key=lambda x: x[1], reverse=True)[:20]\n",
    "words, counts = zip(*sorted_word_counts)\n",
    "\n",
    "plt.figure(figsize=(12, 6))\n",
    "sns.barplot(x=list(counts), y=list(words), palette=\"viridis\")\n",
    "plt.title(\"Top 20 Most Frequent Words in Training Data\")\n",
    "plt.xlabel(\"Frequency\")\n",
    "plt.ylabel(\"Words\")\n",
    "plt.show()"
   ]
  },
  {
   "cell_type": "code",
   "execution_count": 13,
   "id": "2b515c72",
   "metadata": {},
   "outputs": [],
   "source": [
    "# Pad sequences to ensure equal length\n",
    "max_length = 100\n",
    "X_train_padded = pad_sequences(X_train_seq, maxlen=max_length, padding='post', truncating='post')\n",
    "X_test_padded = pad_sequences(X_test_seq, maxlen=max_length, padding='post', truncating='post')"
   ]
  },
  {
   "cell_type": "code",
   "execution_count": 14,
   "id": "826b7d19",
   "metadata": {},
   "outputs": [
    {
     "name": "stderr",
     "output_type": "stream",
     "text": [
      "/Users/swigs/opt/anaconda3/lib/python3.9/site-packages/keras/src/layers/core/embedding.py:90: UserWarning: Argument `input_length` is deprecated. Just remove it.\n",
      "  warnings.warn(\n"
     ]
    }
   ],
   "source": [
    "# Build the deep learning model\n",
    "model = Sequential([\n",
    "    Embedding(input_dim=10000, output_dim=128, input_length=max_length),\n",
    "    Bidirectional(LSTM(64, return_sequences=True)),\n",
    "    Dropout(0.5),\n",
    "    Bidirectional(LSTM(64)),\n",
    "    Dropout(0.5),\n",
    "    Dense(64, activation='relu'),\n",
    "    Dense(len(label_encoder.classes_), activation='softmax')\n",
    "])"
   ]
  },
  {
   "cell_type": "code",
   "execution_count": 15,
   "id": "1d8c06f0",
   "metadata": {},
   "outputs": [],
   "source": [
    "# Compile the model\n",
    "model.compile(optimizer='adam', loss='sparse_categorical_crossentropy', metrics=['accuracy'])"
   ]
  },
  {
   "cell_type": "code",
   "execution_count": 16,
   "id": "afe7270b",
   "metadata": {},
   "outputs": [
    {
     "name": "stdout",
     "output_type": "stream",
     "text": [
      "Epoch 1/10\n",
      "\u001b[1m1/1\u001b[0m \u001b[32m━━━━━━━━━━━━━━━━━━━━\u001b[0m\u001b[37m\u001b[0m \u001b[1m6s\u001b[0m 6s/step - accuracy: 0.4737 - loss: 1.0946 - val_accuracy: 0.0000e+00 - val_loss: 1.1198\n",
      "Epoch 2/10\n",
      "\u001b[1m1/1\u001b[0m \u001b[32m━━━━━━━━━━━━━━━━━━━━\u001b[0m\u001b[37m\u001b[0m \u001b[1m0s\u001b[0m 152ms/step - accuracy: 0.4737 - loss: 1.0887 - val_accuracy: 0.0000e+00 - val_loss: 1.1357\n",
      "Epoch 3/10\n",
      "\u001b[1m1/1\u001b[0m \u001b[32m━━━━━━━━━━━━━━━━━━━━\u001b[0m\u001b[37m\u001b[0m \u001b[1m0s\u001b[0m 205ms/step - accuracy: 0.4211 - loss: 1.0850 - val_accuracy: 0.0000e+00 - val_loss: 1.1568\n",
      "Epoch 4/10\n",
      "\u001b[1m1/1\u001b[0m \u001b[32m━━━━━━━━━━━━━━━━━━━━\u001b[0m\u001b[37m\u001b[0m \u001b[1m0s\u001b[0m 195ms/step - accuracy: 0.4211 - loss: 1.0795 - val_accuracy: 0.0000e+00 - val_loss: 1.1788\n",
      "Epoch 5/10\n",
      "\u001b[1m1/1\u001b[0m \u001b[32m━━━━━━━━━━━━━━━━━━━━\u001b[0m\u001b[37m\u001b[0m \u001b[1m0s\u001b[0m 164ms/step - accuracy: 0.4211 - loss: 1.0766 - val_accuracy: 0.0000e+00 - val_loss: 1.2028\n",
      "Epoch 6/10\n",
      "\u001b[1m1/1\u001b[0m \u001b[32m━━━━━━━━━━━━━━━━━━━━\u001b[0m\u001b[37m\u001b[0m \u001b[1m0s\u001b[0m 161ms/step - accuracy: 0.4211 - loss: 1.0568 - val_accuracy: 0.0000e+00 - val_loss: 1.2319\n",
      "Epoch 7/10\n",
      "\u001b[1m1/1\u001b[0m \u001b[32m━━━━━━━━━━━━━━━━━━━━\u001b[0m\u001b[37m\u001b[0m \u001b[1m0s\u001b[0m 154ms/step - accuracy: 0.4211 - loss: 1.0440 - val_accuracy: 0.0000e+00 - val_loss: 1.2671\n",
      "Epoch 8/10\n",
      "\u001b[1m1/1\u001b[0m \u001b[32m━━━━━━━━━━━━━━━━━━━━\u001b[0m\u001b[37m\u001b[0m \u001b[1m0s\u001b[0m 271ms/step - accuracy: 0.4211 - loss: 1.0545 - val_accuracy: 0.0000e+00 - val_loss: 1.3022\n",
      "Epoch 9/10\n",
      "\u001b[1m1/1\u001b[0m \u001b[32m━━━━━━━━━━━━━━━━━━━━\u001b[0m\u001b[37m\u001b[0m \u001b[1m0s\u001b[0m 123ms/step - accuracy: 0.4211 - loss: 1.0368 - val_accuracy: 0.0000e+00 - val_loss: 1.3259\n",
      "Epoch 10/10\n",
      "\u001b[1m1/1\u001b[0m \u001b[32m━━━━━━━━━━━━━━━━━━━━\u001b[0m\u001b[37m\u001b[0m \u001b[1m0s\u001b[0m 127ms/step - accuracy: 0.4211 - loss: 1.0346 - val_accuracy: 0.0000e+00 - val_loss: 1.3355\n"
     ]
    }
   ],
   "source": [
    "# Train the model\n",
    "history = model.fit(\n",
    "    X_train_padded, y_train,\n",
    "    validation_split=0.2,\n",
    "    epochs=10,\n",
    "    batch_size=32,\n",
    "    verbose=1\n",
    ")\n"
   ]
  },
  {
   "cell_type": "code",
   "execution_count": 17,
   "id": "b2dd8195",
   "metadata": {},
   "outputs": [
    {
     "name": "stdout",
     "output_type": "stream",
     "text": [
      "Test Accuracy: 0.33\n"
     ]
    }
   ],
   "source": [
    "# Evaluate the model\n",
    "test_loss, test_accuracy = model.evaluate(X_test_padded, y_test, verbose=0)\n",
    "print(f\"Test Accuracy: {test_accuracy:.2f}\")"
   ]
  },
  {
   "cell_type": "code",
   "execution_count": 18,
   "id": "2ce3c89a",
   "metadata": {},
   "outputs": [
    {
     "name": "stdout",
     "output_type": "stream",
     "text": [
      "\u001b[1m1/1\u001b[0m \u001b[32m━━━━━━━━━━━━━━━━━━━━\u001b[0m\u001b[37m\u001b[0m \u001b[1m0s\u001b[0m 408ms/step\n"
     ]
    },
    {
     "name": "stderr",
     "output_type": "stream",
     "text": [
      "/Users/swigs/opt/anaconda3/lib/python3.9/site-packages/sklearn/metrics/_classification.py:1318: UndefinedMetricWarning: Precision and F-score are ill-defined and being set to 0.0 in labels with no predicted samples. Use `zero_division` parameter to control this behavior.\n",
      "  _warn_prf(average, modifier, msg_start, len(result))\n",
      "/Users/swigs/opt/anaconda3/lib/python3.9/site-packages/sklearn/metrics/_classification.py:1318: UndefinedMetricWarning: Precision and F-score are ill-defined and being set to 0.0 in labels with no predicted samples. Use `zero_division` parameter to control this behavior.\n",
      "  _warn_prf(average, modifier, msg_start, len(result))\n",
      "/Users/swigs/opt/anaconda3/lib/python3.9/site-packages/sklearn/metrics/_classification.py:1318: UndefinedMetricWarning: Precision and F-score are ill-defined and being set to 0.0 in labels with no predicted samples. Use `zero_division` parameter to control this behavior.\n",
      "  _warn_prf(average, modifier, msg_start, len(result))\n"
     ]
    }
   ],
   "source": [
    "# Generate classification report\n",
    "y_pred = np.argmax(model.predict(X_test_padded), axis=-1)\n",
    "classification_report_output = classification_report(y_test, y_pred, target_names=label_encoder.classes_)\n"
   ]
  },
  {
   "cell_type": "code",
   "execution_count": 19,
   "id": "478bb9f2",
   "metadata": {},
   "outputs": [
    {
     "name": "stdout",
     "output_type": "stream",
     "text": [
      "\n",
      "Classification Report:\n",
      "\n",
      "                precision    recall  f1-score   support\n",
      "\n",
      "      Phishing       0.33      1.00      0.50         2\n",
      "    Pretexting       0.00      0.00      0.00         2\n",
      "Spear Phishing       0.00      0.00      0.00         2\n",
      "\n",
      "      accuracy                           0.33         6\n",
      "     macro avg       0.11      0.33      0.17         6\n",
      "  weighted avg       0.11      0.33      0.17         6\n",
      "\n"
     ]
    }
   ],
   "source": [
    "print(\"\\nClassification Report:\\n\")\n",
    "print(classification_report_output)\n"
   ]
  },
  {
   "cell_type": "code",
   "execution_count": 20,
   "id": "5a04649f",
   "metadata": {},
   "outputs": [
    {
     "data": {
      "text/plain": [
       "<Figure size 1200x600 with 0 Axes>"
      ]
     },
     "execution_count": 20,
     "metadata": {},
     "output_type": "execute_result"
    },
    {
     "data": {
      "text/plain": [
       "<Figure size 1200x600 with 0 Axes>"
      ]
     },
     "metadata": {},
     "output_type": "display_data"
    }
   ],
   "source": [
    "# Visualize training and validation accuracy and loss\n",
    "plt.figure(figsize=(12, 6))"
   ]
  },
  {
   "cell_type": "code",
   "execution_count": 21,
   "id": "c3d3df91",
   "metadata": {},
   "outputs": [
    {
     "data": {
      "text/plain": [
       "<matplotlib.legend.Legend at 0x7f825ca90910>"
      ]
     },
     "execution_count": 21,
     "metadata": {},
     "output_type": "execute_result"
    },
    {
     "data": {
      "image/png": "[encoded data removed]",
      "text/plain": [
       "<Figure size 640x480 with 1 Axes>"
      ]
     },
     "metadata": {},
     "output_type": "display_data"
    }
   ],
   "source": [
    "# Plot training & validation accuracy values\n",
    "plt.subplot(1, 2, 1)\n",
    "plt.plot(history.history['accuracy'], label='Training Accuracy')\n",
    "plt.plot(history.history['val_accuracy'], label='Validation Accuracy')\n",
    "plt.title('Model Accuracy')\n",
    "plt.xlabel('Epoch')\n",
    "plt.ylabel('Accuracy')\n",
    "plt.legend()"
   ]
  },
  {
   "cell_type": "code",
   "execution_count": 22,
   "id": "4d67ac34",
   "metadata": {},
   "outputs": [
    {
     "data": {
      "image/png": "[encoded data removed]",
      "text/plain": [
       "<Figure size 640x480 with 1 Axes>"
      ]
     },
     "metadata": {},
     "output_type": "display_data"
    }
   ],
   "source": [
    "# Plot training & validation loss values\n",
    "plt.subplot(1, 2, 2)\n",
    "plt.plot(history.history['loss'], label='Training Loss')\n",
    "plt.plot(history.history['val_loss'], label='Validation Loss')\n",
    "plt.title('Model Loss')\n",
    "plt.xlabel('Epoch')\n",
    "plt.ylabel('Loss')\n",
    "plt.legend()\n",
    "\n",
    "plt.tight_layout()\n",
    "plt.show()"
   ]
  },
  {
   "cell_type": "code",
   "execution_count": 23,
   "id": "cc211b95",
   "metadata": {},
   "outputs": [],
   "source": [
    "# Advanced training improvements\n",
    "from tensorflow.keras.callbacks import EarlyStopping, ReduceLROnPlateau"
   ]
  },
  {
   "cell_type": "code",
   "execution_count": 24,
   "id": "1f786877",
   "metadata": {},
   "outputs": [],
   "source": [
    "# Early stopping to prevent overfitting\n",
    "early_stopping = EarlyStopping(monitor='val_loss', patience=3, restore_best_weights=True)"
   ]
  },
  {
   "cell_type": "code",
   "execution_count": 25,
   "id": "57fb69c6",
   "metadata": {},
   "outputs": [],
   "source": [
    "# Reduce learning rate on plateau\n",
    "reduce_lr = ReduceLROnPlateau(monitor='val_loss', factor=0.2, patience=2, min_lr=1e-6)"
   ]
  },
  {
   "cell_type": "code",
   "execution_count": 26,
   "id": "be0718aa",
   "metadata": {},
   "outputs": [
    {
     "name": "stdout",
     "output_type": "stream",
     "text": [
      "Epoch 1/20\n",
      "\u001b[1m1/1\u001b[0m \u001b[32m━━━━━━━━━━━━━━━━━━━━\u001b[0m\u001b[37m\u001b[0m \u001b[1m0s\u001b[0m 159ms/step - accuracy: 0.4211 - loss: 1.0409 - val_accuracy: 0.0000e+00 - val_loss: 1.3268 - learning_rate: 0.0010\n",
      "Epoch 2/20\n",
      "\u001b[1m1/1\u001b[0m \u001b[32m━━━━━━━━━━━━━━━━━━━━\u001b[0m\u001b[37m\u001b[0m \u001b[1m0s\u001b[0m 132ms/step - accuracy: 0.4211 - loss: 1.0260 - val_accuracy: 0.0000e+00 - val_loss: 1.3087 - learning_rate: 0.0010\n",
      "Epoch 3/20\n",
      "\u001b[1m1/1\u001b[0m \u001b[32m━━━━━━━━━━━━━━━━━━━━\u001b[0m\u001b[37m\u001b[0m \u001b[1m0s\u001b[0m 117ms/step - accuracy: 0.4211 - loss: 1.0047 - val_accuracy: 0.0000e+00 - val_loss: 1.2906 - learning_rate: 0.0010\n",
      "Epoch 4/20\n",
      "\u001b[1m1/1\u001b[0m \u001b[32m━━━━━━━━━━━━━━━━━━━━\u001b[0m\u001b[37m\u001b[0m \u001b[1m0s\u001b[0m 129ms/step - accuracy: 0.4211 - loss: 0.9664 - val_accuracy: 0.0000e+00 - val_loss: 1.2867 - learning_rate: 0.0010\n",
      "Epoch 5/20\n",
      "\u001b[1m1/1\u001b[0m \u001b[32m━━━━━━━━━━━━━━━━━━━━\u001b[0m\u001b[37m\u001b[0m \u001b[1m0s\u001b[0m 119ms/step - accuracy: 0.4211 - loss: 0.9699 - val_accuracy: 0.0000e+00 - val_loss: 1.3052 - learning_rate: 0.0010\n",
      "Epoch 6/20\n",
      "\u001b[1m1/1\u001b[0m \u001b[32m━━━━━━━━━━━━━━━━━━━━\u001b[0m\u001b[37m\u001b[0m \u001b[1m0s\u001b[0m 122ms/step - accuracy: 0.4211 - loss: 0.9196 - val_accuracy: 0.0000e+00 - val_loss: 1.3498 - learning_rate: 0.0010\n",
      "Epoch 7/20\n",
      "\u001b[1m1/1\u001b[0m \u001b[32m━━━━━━━━━━━━━━━━━━━━\u001b[0m\u001b[37m\u001b[0m \u001b[1m0s\u001b[0m 129ms/step - accuracy: 0.4211 - loss: 0.8805 - val_accuracy: 0.0000e+00 - val_loss: 1.3654 - learning_rate: 2.0000e-04\n"
     ]
    }
   ],
   "source": [
    "# Retrain the model with advanced callbacks\n",
    "advanced_history = model.fit(\n",
    "    X_train_padded, y_train,\n",
    "    validation_split=0.2,\n",
    "    epochs=20,\n",
    "    batch_size=32,\n",
    "    callbacks=[early_stopping, reduce_lr],\n",
    "    verbose=1\n",
    ")"
   ]
  },
  {
   "cell_type": "code",
   "execution_count": 27,
   "id": "dac87a21",
   "metadata": {},
   "outputs": [
    {
     "data": {
      "text/plain": [
       "<Figure size 1200x600 with 0 Axes>"
      ]
     },
     "execution_count": 27,
     "metadata": {},
     "output_type": "execute_result"
    },
    {
     "data": {
      "text/plain": [
       "<Figure size 1200x600 with 0 Axes>"
      ]
     },
     "metadata": {},
     "output_type": "display_data"
    }
   ],
   "source": [
    "# Visualize advanced training process\n",
    "plt.figure(figsize=(12, 6))"
   ]
  },
  {
   "cell_type": "code",
   "execution_count": 28,
   "id": "daf13680",
   "metadata": {},
   "outputs": [
    {
     "data": {
      "text/plain": [
       "<matplotlib.legend.Legend at 0x7f825cfc8250>"
      ]
     },
     "execution_count": 28,
     "metadata": {},
     "output_type": "execute_result"
    },
    {
     "data": {
      "image/png": "[encoded data removed]",
      "text/plain": [
       "<Figure size 640x480 with 1 Axes>"
      ]
     },
     "metadata": {},
     "output_type": "display_data"
    }
   ],
   "source": [
    "# Plot training & validation accuracy values\n",
    "plt.subplot(1, 2, 1)\n",
    "plt.plot(advanced_history.history['accuracy'], label='Training Accuracy')\n",
    "plt.plot(advanced_history.history['val_accuracy'], label='Validation Accuracy')\n",
    "plt.title('Advanced Model Accuracy')\n",
    "plt.xlabel('Epoch')\n",
    "plt.ylabel('Accuracy')\n",
    "plt.legend()"
   ]
  },
  {
   "cell_type": "code",
   "execution_count": 29,
   "id": "42ec585f",
   "metadata": {},
   "outputs": [
    {
     "data": {
      "image/png": "[encoded data removed]",
      "text/plain": [
       "<Figure size 640x480 with 1 Axes>"
      ]
     },
     "metadata": {},
     "output_type": "display_data"
    }
   ],
   "source": [
    "# Plot training & validation loss values\n",
    "plt.subplot(1, 2, 2)\n",
    "plt.plot(advanced_history.history['loss'], label='Training Loss')\n",
    "plt.plot(advanced_history.history['val_loss'], label='Validation Loss')\n",
    "plt.title('Advanced Model Loss')\n",
    "plt.xlabel('Epoch')\n",
    "plt.ylabel('Loss')\n",
    "plt.legend()\n",
    "\n",
    "plt.tight_layout()\n",
    "plt.show()"
   ]
  },
  {
   "cell_type": "code",
   "execution_count": 30,
   "id": "b0523ceb",
   "metadata": {},
   "outputs": [
    {
     "name": "stdout",
     "output_type": "stream",
     "text": [
      "\n",
      "Advanced Training Evaluation:\n",
      "\n",
      "Final Test Loss: 1.0835\n",
      "Final Test Accuracy: 0.3333\n",
      "\u001b[1m1/1\u001b[0m \u001b[32m━━━━━━━━━━━━━━━━━━━━\u001b[0m\u001b[37m\u001b[0m \u001b[1m0s\u001b[0m 21ms/step\n",
      "\n",
      "Final Classification Report:\n",
      "\n",
      "                precision    recall  f1-score   support\n",
      "\n",
      "      Phishing       0.33      1.00      0.50         2\n",
      "    Pretexting       0.00      0.00      0.00         2\n",
      "Spear Phishing       0.00      0.00      0.00         2\n",
      "\n",
      "      accuracy                           0.33         6\n",
      "     macro avg       0.11      0.33      0.17         6\n",
      "  weighted avg       0.11      0.33      0.17         6\n",
      "\n"
     ]
    },
    {
     "name": "stderr",
     "output_type": "stream",
     "text": [
      "/Users/swigs/opt/anaconda3/lib/python3.9/site-packages/sklearn/metrics/_classification.py:1318: UndefinedMetricWarning: Precision and F-score are ill-defined and being set to 0.0 in labels with no predicted samples. Use `zero_division` parameter to control this behavior.\n",
      "  _warn_prf(average, modifier, msg_start, len(result))\n",
      "/Users/swigs/opt/anaconda3/lib/python3.9/site-packages/sklearn/metrics/_classification.py:1318: UndefinedMetricWarning: Precision and F-score are ill-defined and being set to 0.0 in labels with no predicted samples. Use `zero_division` parameter to control this behavior.\n",
      "  _warn_prf(average, modifier, msg_start, len(result))\n",
      "/Users/swigs/opt/anaconda3/lib/python3.9/site-packages/sklearn/metrics/_classification.py:1318: UndefinedMetricWarning: Precision and F-score are ill-defined and being set to 0.0 in labels with no predicted samples. Use `zero_division` parameter to control this behavior.\n",
      "  _warn_prf(average, modifier, msg_start, len(result))\n"
     ]
    }
   ],
   "source": [
    "# Advanced reports\n",
    "print(\"\\nAdvanced Training Evaluation:\\n\")\n",
    "final_test_loss, final_test_accuracy = model.evaluate(X_test_padded, y_test, verbose=0)\n",
    "print(f\"Final Test Loss: {final_test_loss:.4f}\")\n",
    "print(f\"Final Test Accuracy: {final_test_accuracy:.4f}\")\n",
    "\n",
    "final_y_pred = np.argmax(model.predict(X_test_padded), axis=-1)\n",
    "final_classification_report = classification_report(y_test, final_y_pred, target_names=label_encoder.classes_)\n",
    "\n",
    "print(\"\\nFinal Classification Report:\\n\")\n",
    "print(final_classification_report)\n"
   ]
  },
  {
   "cell_type": "code",
   "execution_count": 31,
   "id": "420922df",
   "metadata": {},
   "outputs": [
    {
     "name": "stdout",
     "output_type": "stream",
     "text": [
      "\n",
      "Failed to fetch data from URL. Status Code: 404\n"
     ]
    }
   ],
   "source": [
    "# Test the model using JSON data from URL\n",
    "def test_model_with_json(url):\n",
    "    response = requests.get(url)\n",
    "    if response.status_code == 200:\n",
    "        data = response.json()\n",
    "        if 'text' in data:\n",
    "            test_text = data['text']\n",
    "            test_seq = tokenizer.texts_to_sequences([test_text])\n",
    "            test_padded = pad_sequences(test_seq, maxlen=max_length, padding='post', truncating='post')\n",
    "            prediction = np.argmax(model.predict(test_padded), axis=-1)\n",
    "            predicted_label = label_encoder.inverse_transform(prediction)[0]\n",
    "            print(f\"\\nTest Text: {test_text}\")\n",
    "            print(f\"Predicted Label: {predicted_label}\")\n",
    "        else:\n",
    "            print(\"\\nInvalid JSON format: 'text' field is missing.\")\n",
    "    else:\n",
    "        print(f\"\\nFailed to fetch data from URL. Status Code: {response.status_code}\")\n",
    "\n",
    "# Example URL for testing\n",
    "json_url = \"https://example.com/test-data.json\"\n",
    "test_model_with_json(json_url)"
   ]
  },
  {
   "cell_type": "code",
   "execution_count": 32,
   "id": "e177c3dc",
   "metadata": {},
   "outputs": [
    {
     "name": "stdout",
     "output_type": "stream",
     "text": [
      "Model saved to /Users/swigs/Documents/Mmakau/social_engineering_model.keras\n"
     ]
    }
   ],
   "source": [
    "# Save the trained model\n",
    "model_save_path = \"/Users/swigs/Documents/Mmakau/social_engineering_model.keras\"\n",
    "model.save(model_save_path)\n",
    "print(f\"Model saved to {model_save_path}\")"
   ]
  },
  {
   "cell_type": "code",
   "execution_count": 33,
   "id": "54e7873d",
   "metadata": {},
   "outputs": [
    {
     "name": "stdout",
     "output_type": "stream",
     "text": [
      "\u001b[1m1/1\u001b[0m \u001b[32m━━━━━━━━━━━━━━━━━━━━\u001b[0m\u001b[37m\u001b[0m \u001b[1m0s\u001b[0m 406ms/step\n",
      "\n",
      "Test Text: We have noticed unusual activity in your FNB account please login using the link below fake.com\n",
      "Predicted Label: Phishing\n",
      "Prediction Confidence: 45.84%\n"
     ]
    },
    {
     "data": {
      "image/png": "[encoded data removed]",
      "text/plain": [
       "<Figure size 1000x600 with 1 Axes>"
      ]
     },
     "metadata": {},
     "output_type": "display_data"
    }
   ],
   "source": [
    "# Save the trained model to determine the type of social engineering attack\n",
    "test_text = \"We have noticed unusual activity in your FNB account please login using the link below fake.com\"\n",
    "test_seq = tokenizer.texts_to_sequences([test_text])\n",
    "test_padded = pad_sequences(test_seq, maxlen=max_length, padding='post', truncating='post')\n",
    "\n",
    "# Predict the type of social engineering attack\n",
    "prediction_probs = model.predict(test_padded)[0]\n",
    "predicted_label_index = np.argmax(prediction_probs)\n",
    "predicted_label = label_encoder.inverse_transform([predicted_label_index])[0]\n",
    "prediction_percentage = prediction_probs[predicted_label_index] * 100\n",
    "\n",
    "print(f\"\\nTest Text: {test_text}\")\n",
    "print(f\"Predicted Label: {predicted_label}\")\n",
    "print(f\"Prediction Confidence: {prediction_percentage:.2f}%\")\n",
    "\n",
    "# Visualize prediction probabilities for all categories\n",
    "plt.figure(figsize=(10, 6))\n",
    "sns.barplot(\n",
    "    x=prediction_probs * 100,\n",
    "    y=label_encoder.classes_,\n",
    "    palette=\"Blues_r\"\n",
    ")\n",
    "plt.title(\"Prediction Probabilities for Social Engineering Types\")\n",
    "plt.xlabel(\"Confidence (%)\")\n",
    "plt.ylabel(\"Social Engineering Type\")\n",
    "plt.show()\n"
   ]
  },
  {
   "cell_type": "code",
   "execution_count": 35,
   "id": "32db979e",
   "metadata": {},
   "outputs": [
    {
     "name": "stdout",
     "output_type": "stream",
     "text": [
      "Model successfully loaded and compiled.\n"
     ]
    }
   ],
   "source": [
    "# Load and use the saved model\n",
    "from tensorflow.keras.models import load_model\n",
    "if os.path.exists(model_save_path):\n",
    "    saved_model = load_model(model_save_path)\n",
    "    saved_model.compile(optimizer='adam', loss='sparse_categorical_crossentropy', metrics=['accuracy'])\n",
    "    print(\"Model successfully loaded and compiled.\")\n",
    "else:\n",
    "    print(f\"Model file not found at {model_save_path}\")\n"
   ]
  },
  {
   "cell_type": "code",
   "execution_count": 36,
   "id": "ab9b300d",
   "metadata": {},
   "outputs": [
    {
     "name": "stdout",
     "output_type": "stream",
     "text": [
      "\u001b[1m1/1\u001b[0m \u001b[32m━━━━━━━━━━━━━━━━━━━━\u001b[0m\u001b[37m\u001b[0m \u001b[1m0s\u001b[0m 416ms/step\n"
     ]
    }
   ],
   "source": [
    "# Test a specific example\n",
    "example_text = \"We have noticed unusual activity in your FNB account please login using the link below fake.com\"\n",
    "example_seq = tokenizer.texts_to_sequences([example_text])\n",
    "example_padded = pad_sequences(example_seq, maxlen=max_length, padding='post', truncating='post')\n",
    "prediction = np.argmax(saved_model.predict(example_padded), axis=-1)\n",
    "predicted_label = label_encoder.inverse_transform(prediction)[0]"
   ]
  },
  {
   "cell_type": "code",
   "execution_count": 37,
   "id": "04ed3249",
   "metadata": {},
   "outputs": [
    {
     "name": "stdout",
     "output_type": "stream",
     "text": [
      "\u001b[1m1/1\u001b[0m \u001b[32m━━━━━━━━━━━━━━━━━━━━\u001b[0m\u001b[37m\u001b[0m \u001b[1m0s\u001b[0m 27ms/step\n",
      "\n",
      "Example Text: We have noticed unusual activity in your FNB account please login using the link below fake.com\n",
      "Predicted Label: Phishing\n",
      "Confidence: 45.84%\n"
     ]
    }
   ],
   "source": [
    "# Output the prediction and its percentage\n",
    "confidence_scores = saved_model.predict(example_padded)[0]\n",
    "confidence_percentage = confidence_scores[prediction[0]] * 100\n",
    "print(f\"\\nExample Text: {example_text}\")\n",
    "print(f\"Predicted Label: {predicted_label}\")\n",
    "print(f\"Confidence: {confidence_percentage:.2f}%\")"
   ]
  },
  {
   "cell_type": "code",
   "execution_count": 38,
   "id": "53b80562",
   "metadata": {},
   "outputs": [
    {
     "name": "stdout",
     "output_type": "stream",
     "text": [
      "Test Accuracy: 0.33\n",
      "\u001b[1m1/1\u001b[0m \u001b[32m━━━━━━━━━━━━━━━━━━━━\u001b[0m\u001b[37m\u001b[0m \u001b[1m0s\u001b[0m 21ms/step\n",
      "Manual Accuracy Score: 0.33\n"
     ]
    },
    {
     "data": {
      "image/png": "[encoded data removed]",
      "text/plain": [
       "<Figure size 640x480 with 2 Axes>"
      ]
     },
     "metadata": {},
     "output_type": "display_data"
    }
   ],
   "source": [
    "from sklearn.metrics import confusion_matrix, ConfusionMatrixDisplay\n",
    "\n",
    "# Evaluate the model on test data\n",
    "test_loss, test_accuracy = model.evaluate(X_test_padded, y_test, verbose=0)\n",
    "print(f\"Test Accuracy: {test_accuracy:.2f}\")\n",
    "\n",
    "# Generate predictions\n",
    "y_pred = np.argmax(model.predict(X_test_padded), axis=-1)\n",
    "\n",
    "# Calculate accuracy manually\n",
    "manual_accuracy = accuracy_score(y_test, y_pred)\n",
    "print(f\"Manual Accuracy Score: {manual_accuracy:.2f}\")\n",
    "\n",
    "# Generate confusion matrix\n",
    "conf_matrix = confusion_matrix(y_test, y_pred, labels=range(len(label_encoder.classes_)))\n",
    "disp = ConfusionMatrixDisplay(confusion_matrix=conf_matrix, display_labels=label_encoder.classes_)\n",
    "disp.plot(cmap='viridis', xticks_rotation=45)\n",
    "\n",
    "plt.title(\"Confusion Matrix\")\n",
    "plt.show()\n"
   ]
  },
  {
   "cell_type": "code",
   "execution_count": 39,
   "id": "0035aa1b",
   "metadata": {},
   "outputs": [
    {
     "name": "stdout",
     "output_type": "stream",
     "text": [
      "[==================================================] 100.0% 128.1/128.1MB downloaded\n"
     ]
    },
    {
     "ename": "AttributeError",
     "evalue": "'KeyedVectors' object has no attribute 'get'",
     "output_type": "error",
     "traceback": [
      "\u001b[0;31m---------------------------------------------------------------------------\u001b[0m",
      "\u001b[0;31mAttributeError\u001b[0m                            Traceback (most recent call last)",
      "\u001b[0;32m/var/folders/gg/h6sp7c1x57l79lkmkh2xwznh0000gn/T/ipykernel_53038/2374487195.py\u001b[0m in \u001b[0;36m<module>\u001b[0;34m\u001b[0m\n\u001b[1;32m     11\u001b[0m \u001b[0;32mfor\u001b[0m \u001b[0mword\u001b[0m\u001b[0;34m,\u001b[0m \u001b[0mi\u001b[0m \u001b[0;32min\u001b[0m \u001b[0mword_index\u001b[0m\u001b[0;34m.\u001b[0m\u001b[0mitems\u001b[0m\u001b[0;34m(\u001b[0m\u001b[0;34m)\u001b[0m\u001b[0;34m:\u001b[0m\u001b[0;34m\u001b[0m\u001b[0;34m\u001b[0m\u001b[0m\n\u001b[1;32m     12\u001b[0m     \u001b[0;32mif\u001b[0m \u001b[0mi\u001b[0m \u001b[0;34m<\u001b[0m \u001b[0;36m10000\u001b[0m\u001b[0;34m:\u001b[0m\u001b[0;34m\u001b[0m\u001b[0;34m\u001b[0m\u001b[0m\n\u001b[0;32m---> 13\u001b[0;31m         \u001b[0membedding_vector\u001b[0m \u001b[0;34m=\u001b[0m \u001b[0mglove_vectors\u001b[0m\u001b[0;34m.\u001b[0m\u001b[0mget\u001b[0m\u001b[0;34m(\u001b[0m\u001b[0mword\u001b[0m\u001b[0;34m)\u001b[0m\u001b[0;34m\u001b[0m\u001b[0;34m\u001b[0m\u001b[0m\n\u001b[0m\u001b[1;32m     14\u001b[0m         \u001b[0;32mif\u001b[0m \u001b[0membedding_vector\u001b[0m \u001b[0;32mis\u001b[0m \u001b[0;32mnot\u001b[0m \u001b[0;32mNone\u001b[0m\u001b[0;34m:\u001b[0m\u001b[0;34m\u001b[0m\u001b[0;34m\u001b[0m\u001b[0m\n\u001b[1;32m     15\u001b[0m             \u001b[0membedding_matrix\u001b[0m\u001b[0;34m[\u001b[0m\u001b[0mi\u001b[0m\u001b[0;34m]\u001b[0m \u001b[0;34m=\u001b[0m \u001b[0membedding_vector\u001b[0m\u001b[0;34m\u001b[0m\u001b[0;34m\u001b[0m\u001b[0m\n",
      "\u001b[0;31mAttributeError\u001b[0m: 'KeyedVectors' object has no attribute 'get'"
     ]
    }
   ],
   "source": [
    "import gensim.downloader as api\n",
    "\n",
    "# Load pretrained GloVe embeddings\n",
    "glove_vectors = api.load(\"glove-wiki-gigaword-100\")  # Example: 100-dimensional vectors\n",
    "\n",
    "# Create embedding matrix\n",
    "embedding_dim = 100\n",
    "word_index = tokenizer.word_index\n",
    "embedding_matrix = np.zeros((10000, embedding_dim))\n",
    "\n",
    "for word, i in word_index.items():\n",
    "    if i < 10000:\n",
    "        embedding_vector = glove_vectors.get(word)\n",
    "        if embedding_vector is not None:\n",
    "            embedding_matrix[i] = embedding_vector\n",
    "\n",
    "# Replace embedding layer in the model\n",
    "model = Sequential([\n",
    "    Embedding(input_dim=10000, output_dim=embedding_dim, weights=[embedding_matrix], input_length=max_length, trainable=False),\n",
    "    Bidirectional(LSTM(64, return_sequences=True)),\n",
    "    Dropout(0.5),\n",
    "    Bidirectional(LSTM(64)),\n",
    "    Dropout(0.5),\n",
    "    Dense(64, activation='relu'),\n",
    "    Dense(len(label_encoder.classes_), activation='softmax')\n",
    "])\n"
   ]
  },
  {
   "cell_type": "code",
   "execution_count": 40,
   "id": "b6fd0e2a",
   "metadata": {},
   "outputs": [
    {
     "name": "stderr",
     "output_type": "stream",
     "text": [
      "/Users/swigs/opt/anaconda3/lib/python3.9/site-packages/keras/src/layers/core/embedding.py:90: UserWarning: Argument `input_length` is deprecated. Just remove it.\n",
      "  warnings.warn(\n"
     ]
    },
    {
     "data": {
      "text/html": [
       "<pre style=\"white-space:pre;overflow-x:auto;line-height:normal;font-family:Menlo,'DejaVu Sans Mono',consolas,'Courier New',monospace\"><span style=\"font-weight: bold\">Model: \"sequential_1\"</span>\n",
       "</pre>\n"
      ],
      "text/plain": [
       "\u001b[1mModel: \"sequential_1\"\u001b[0m\n"
      ]
     },
     "metadata": {},
     "output_type": "display_data"
    },
    {
     "data": {
      "text/html": [
       "<pre style=\"white-space:pre;overflow-x:auto;line-height:normal;font-family:Menlo,'DejaVu Sans Mono',consolas,'Courier New',monospace\">┏━━━━━━━━━━━━━━━━━━━━━━━━━━━━━━━━━┳━━━━━━━━━━━━━━━━━━━━━━━━┳━━━━━━━━━━━━━━━┓\n",
       "┃<span style=\"font-weight: bold\"> Layer (type)                    </span>┃<span style=\"font-weight: bold\"> Output Shape           </span>┃<span style=\"font-weight: bold\">       Param # </span>┃\n",
       "┡━━━━━━━━━━━━━━━━━━━━━━━━━━━━━━━━━╇━━━━━━━━━━━━━━━━━━━━━━━━╇━━━━━━━━━━━━━━━┩\n",
       "│ embedding_1 (<span style=\"color: #0087ff; text-decoration-color: #0087ff\">Embedding</span>)         │ ?                      │     <span style=\"color: #00af00; text-decoration-color: #00af00\">1,000,000</span> │\n",
       "├─────────────────────────────────┼────────────────────────┼───────────────┤\n",
       "│ bidirectional_2 (<span style=\"color: #0087ff; text-decoration-color: #0087ff\">Bidirectional</span>) │ ?                      │   <span style=\"color: #00af00; text-decoration-color: #00af00\">0</span> (unbuilt) │\n",
       "├─────────────────────────────────┼────────────────────────┼───────────────┤\n",
       "│ dropout_2 (<span style=\"color: #0087ff; text-decoration-color: #0087ff\">Dropout</span>)             │ ?                      │   <span style=\"color: #00af00; text-decoration-color: #00af00\">0</span> (unbuilt) │\n",
       "├─────────────────────────────────┼────────────────────────┼───────────────┤\n",
       "│ bidirectional_3 (<span style=\"color: #0087ff; text-decoration-color: #0087ff\">Bidirectional</span>) │ ?                      │   <span style=\"color: #00af00; text-decoration-color: #00af00\">0</span> (unbuilt) │\n",
       "├─────────────────────────────────┼────────────────────────┼───────────────┤\n",
       "│ dropout_3 (<span style=\"color: #0087ff; text-decoration-color: #0087ff\">Dropout</span>)             │ ?                      │   <span style=\"color: #00af00; text-decoration-color: #00af00\">0</span> (unbuilt) │\n",
       "├─────────────────────────────────┼────────────────────────┼───────────────┤\n",
       "│ dense_2 (<span style=\"color: #0087ff; text-decoration-color: #0087ff\">Dense</span>)                 │ ?                      │   <span style=\"color: #00af00; text-decoration-color: #00af00\">0</span> (unbuilt) │\n",
       "├─────────────────────────────────┼────────────────────────┼───────────────┤\n",
       "│ dense_3 (<span style=\"color: #0087ff; text-decoration-color: #0087ff\">Dense</span>)                 │ ?                      │   <span style=\"color: #00af00; text-decoration-color: #00af00\">0</span> (unbuilt) │\n",
       "└─────────────────────────────────┴────────────────────────┴───────────────┘\n",
       "</pre>\n"
      ],
      "text/plain": [
       "┏━━━━━━━━━━━━━━━━━━━━━━━━━━━━━━━━━┳━━━━━━━━━━━━━━━━━━━━━━━━┳━━━━━━━━━━━━━━━┓\n",
       "┃\u001b[1m \u001b[0m\u001b[1mLayer (type)                   \u001b[0m\u001b[1m \u001b[0m┃\u001b[1m \u001b[0m\u001b[1mOutput Shape          \u001b[0m\u001b[1m \u001b[0m┃\u001b[1m \u001b[0m\u001b[1m      Param #\u001b[0m\u001b[1m \u001b[0m┃\n",
       "┡━━━━━━━━━━━━━━━━━━━━━━━━━━━━━━━━━╇━━━━━━━━━━━━━━━━━━━━━━━━╇━━━━━━━━━━━━━━━┩\n",
       "│ embedding_1 (\u001b[38;5;33mEmbedding\u001b[0m)         │ ?                      │     \u001b[38;5;34m1,000,000\u001b[0m │\n",
       "├─────────────────────────────────┼────────────────────────┼───────────────┤\n",
       "│ bidirectional_2 (\u001b[38;5;33mBidirectional\u001b[0m) │ ?                      │   \u001b[38;5;34m0\u001b[0m (unbuilt) │\n",
       "├─────────────────────────────────┼────────────────────────┼───────────────┤\n",
       "│ dropout_2 (\u001b[38;5;33mDropout\u001b[0m)             │ ?                      │   \u001b[38;5;34m0\u001b[0m (unbuilt) │\n",
       "├─────────────────────────────────┼────────────────────────┼───────────────┤\n",
       "│ bidirectional_3 (\u001b[38;5;33mBidirectional\u001b[0m) │ ?                      │   \u001b[38;5;34m0\u001b[0m (unbuilt) │\n",
       "├─────────────────────────────────┼────────────────────────┼───────────────┤\n",
       "│ dropout_3 (\u001b[38;5;33mDropout\u001b[0m)             │ ?                      │   \u001b[38;5;34m0\u001b[0m (unbuilt) │\n",
       "├─────────────────────────────────┼────────────────────────┼───────────────┤\n",
       "│ dense_2 (\u001b[38;5;33mDense\u001b[0m)                 │ ?                      │   \u001b[38;5;34m0\u001b[0m (unbuilt) │\n",
       "├─────────────────────────────────┼────────────────────────┼───────────────┤\n",
       "│ dense_3 (\u001b[38;5;33mDense\u001b[0m)                 │ ?                      │   \u001b[38;5;34m0\u001b[0m (unbuilt) │\n",
       "└─────────────────────────────────┴────────────────────────┴───────────────┘\n"
      ]
     },
     "metadata": {},
     "output_type": "display_data"
    },
    {
     "data": {
      "text/html": [
       "<pre style=\"white-space:pre;overflow-x:auto;line-height:normal;font-family:Menlo,'DejaVu Sans Mono',consolas,'Courier New',monospace\"><span style=\"font-weight: bold\"> Total params: </span><span style=\"color: #00af00; text-decoration-color: #00af00\">1,000,000</span> (3.81 MB)\n",
       "</pre>\n"
      ],
      "text/plain": [
       "\u001b[1m Total params: \u001b[0m\u001b[38;5;34m1,000,000\u001b[0m (3.81 MB)\n"
      ]
     },
     "metadata": {},
     "output_type": "display_data"
    },
    {
     "data": {
      "text/html": [
       "<pre style=\"white-space:pre;overflow-x:auto;line-height:normal;font-family:Menlo,'DejaVu Sans Mono',consolas,'Courier New',monospace\"><span style=\"font-weight: bold\"> Trainable params: </span><span style=\"color: #00af00; text-decoration-color: #00af00\">0</span> (0.00 B)\n",
       "</pre>\n"
      ],
      "text/plain": [
       "\u001b[1m Trainable params: \u001b[0m\u001b[38;5;34m0\u001b[0m (0.00 B)\n"
      ]
     },
     "metadata": {},
     "output_type": "display_data"
    },
    {
     "data": {
      "text/html": [
       "<pre style=\"white-space:pre;overflow-x:auto;line-height:normal;font-family:Menlo,'DejaVu Sans Mono',consolas,'Courier New',monospace\"><span style=\"font-weight: bold\"> Non-trainable params: </span><span style=\"color: #00af00; text-decoration-color: #00af00\">1,000,000</span> (3.81 MB)\n",
       "</pre>\n"
      ],
      "text/plain": [
       "\u001b[1m Non-trainable params: \u001b[0m\u001b[38;5;34m1,000,000\u001b[0m (3.81 MB)\n"
      ]
     },
     "metadata": {},
     "output_type": "display_data"
    }
   ],
   "source": [
    "import gensim.downloader as api\n",
    "import numpy as np\n",
    "\n",
    "# Load pretrained GloVe embeddings\n",
    "glove_vectors = api.load(\"glove-wiki-gigaword-100\")  # Example: 100-dimensional vectors\n",
    "\n",
    "# Create embedding matrix\n",
    "embedding_dim = 100\n",
    "word_index = tokenizer.word_index  # Assumes tokenizer is already created\n",
    "embedding_matrix = np.zeros((10000, embedding_dim))  # Limit to 10,000 words in vocabulary\n",
    "\n",
    "for word, i in word_index.items():\n",
    "    if i < 10000:  # Respect the vocabulary size limit\n",
    "        if word in glove_vectors:  # Check if word is in pretrained embeddings\n",
    "            embedding_matrix[i] = glove_vectors[word]\n",
    "\n",
    "# Replace embedding layer in the model\n",
    "from tensorflow.keras.models import Sequential\n",
    "from tensorflow.keras.layers import Embedding, Bidirectional, LSTM, Dropout, Dense\n",
    "\n",
    "model = Sequential([\n",
    "    Embedding(input_dim=10000, output_dim=embedding_dim, weights=[embedding_matrix], input_length=max_length, trainable=False),\n",
    "    Bidirectional(LSTM(64, return_sequences=True)),\n",
    "    Dropout(0.5),\n",
    "    Bidirectional(LSTM(64)),\n",
    "    Dropout(0.5),\n",
    "    Dense(64, activation='relu'),\n",
    "    Dense(len(label_encoder.classes_), activation='softmax')  # Assumes label_encoder is defined\n",
    "])\n",
    "\n",
    "model.summary()\n"
   ]
  },
  {
   "cell_type": "code",
   "execution_count": 44,
   "id": "8402b02d",
   "metadata": {},
   "outputs": [
    {
     "name": "stdout",
     "output_type": "stream",
     "text": [
      "Failed to fetch data from API. Status Code: 404\n"
     ]
    }
   ],
   "source": [
    "# Fetch data from API and train the model\n",
    "api_url = \"https://phishing-url-risk-api.p.rapidapi.com/url/\"\n",
    "querystring = {\"url\": \"appleid.apple.com-sa.pm\"}\n",
    "headers = {\n",
    "    \"x-rapidapi-key\": \"7561755ecdmsh00fd73d0a965981p149bb9jsn029cedbd0ae4\",\n",
    "    \"x-rapidapi-host\": \"phishing-url-risk-api.p.rapidapi.com\"\n",
    "}\n",
    "\n",
    "response = requests.get(api_url, headers=headers, params=querystring)\n",
    "\n",
    "if response.status_code == 200:\n",
    "    api_data = response.json()\n",
    "    print(\"API data successfully fetched.\")\n",
    "\n",
    "    # Assume the API data has 'text' and 'label' fields\n",
    "    if all(key in api_data for key in ['text', 'label']):\n",
    "        api_X = api_data['text']\n",
    "        api_y = label_encoder.transform(api_data['label'])\n",
    "\n",
    "        # Tokenize and pad the API data\n",
    "        api_X_seq = tokenizer.texts_to_sequences(api_X)\n",
    "        api_X_padded = pad_sequences(api_X_seq, maxlen=max_length, padding='post', truncating='post')\n",
    "\n",
    "        # Evaluate on API data\n",
    "        api_loss, api_accuracy = model.evaluate(api_X_padded, api_y, verbose=0)\n",
    "        print(f\"API Test Loss: {api_loss:.4f}\")\n",
    "        print(f\"API Test Accuracy: {api_accuracy:.4f}\")\n",
    "    else:\n",
    "        print(\"The API data format is not compatible.\")\n",
    "else:\n",
    "    print(f\"Failed to fetch data from API. Status Code: {response.status_code}\")\n",
    "\n"
   ]
  },
  {
   "cell_type": "code",
   "execution_count": 45,
   "id": "86e963ba",
   "metadata": {},
   "outputs": [
    {
     "name": "stdout",
     "output_type": "stream",
     "text": [
      "Failed to fetch data from API. Status Code: 404\n",
      "Response Details: <html>\n",
      "    <head>\n",
      "        <meta charset=\"UTF-8\">\n",
      "        <title>Coming Soon: PythonAnywhere</title>\n",
      "        <style>\n",
      "            body {\n",
      "                font-family: Helvetica, Arial, sans-serif;\n",
      "                width: 500px;\n",
      "                margin-left: auto;\n",
      "                margin-right: auto;\n",
      "                margin-top: 20px;\n",
      "            }\n",
      "\n",
      "            h1 {\n",
      "                font-family: Trebuchet MS, Helvetica, Arial, sans-serif;\n",
      "            }\n",
      "\n",
      "            .for-site-owner {\n",
      "                font-size: smaller;\n",
      "                margin-top: 30px;\n",
      "                color: gray;\n",
      "            }\n",
      "        </style>\n",
      "    </head>\n",
      "\n",
      "    <body>\n",
      "        <img src=\"https://s3.amazonaws.com/pythonanywhere-error-images/logo-234x35.png\" />\n",
      "\n",
      "        <div class=\"main\">\n",
      "            <h1>Coming Soon!</h1>\n",
      "\n",
      "            <p>\n",
      "                This is going to be another great website hosted by\n",
      "                <a href=\"https://www.pythonanywhere.com/\">PythonAnywhere</a>.\n",
      "            </p>\n",
      "\n",
      "            <p>\n",
      "                PythonAnywhere lets you host, run, and code Python in the cloud.\n",
      "                Our free plan gives you access to machines with\n",
      "                everything already set up for you. You can develop and host\n",
      "                your website or any other code directly from your browser\n",
      "                without having to install software or manage your own server.\n",
      "            </p>\n",
      "\n",
      "            <p>\n",
      "                Need more power? Upgraded plans start at $5/month.\n",
      "            </p>\n",
      "\n",
      "            <p>\n",
      "                <a href=\"https://www.pythonanywhere.com/\">You can find out more about PythonAnywhere here.</a>\n",
      "            </p>\n",
      "        </div>\n",
      "\n",
      "        <div class=\"for-site-owner\">\n",
      "            <h2>Developer info</h2>\n",
      "\n",
      "            <p>\n",
      "                Hi!  If this is your PythonAnywhere-hosted site, then you're\n",
      "                almost there &mdash; you just need to create\n",
      "                a web app to handle this domain.\n",
      "            </p>\n",
      "\n",
      "            <p>\n",
      "                Go to the \"Web\" tab inside\n",
      "                PythonAnywhere and click \"Add a new web app\".\n",
      "                If you already have a web app and you want to use the same code for this domain\n",
      "                (say because you've just upgraded and want the site\n",
      "                you built at <code>yourusername.pythonanywhere.com</code> to run on\n",
      "                <code>www.yourdomain.com</code>) then\n",
      "                <a href=\"https://help.pythonanywhere.com/pages/UsingANewDomainForExistingWebApp\">this help page should explain\n",
      "                everything</a>.\n",
      "            </p>\n",
      "\n",
      "            <p>\n",
      "                If you're having problems getting it all working, drop us a line at\n",
      "                liveusercare@pythonanywhere.com, or in\n",
      "                <a href=\"https://www.pythonanywhere.com/forums/\">the forums</a>,\n",
      "                or using the \"Send\n",
      "                feedback\" link on the site.  We'll\n",
      "                get back to you as fast as we can!\n",
      "            </p>\n",
      "\n",
      "        </div>\n",
      "\n",
      "    </body>\n",
      "</html>\n",
      "\n"
     ]
    }
   ],
   "source": [
    "api_url = \"https://phishing-url-risk-api.p.rapidapi.com/url/\"\n",
    "querystring = {\"url\": \"appleid.apple.com-sa.pm\"}\n",
    "headers = {\n",
    "    \"x-rapidapi-key\": \"7561755ecdmsh00fd73d0a965981p149bb9jsn029cedbd0ae4\",  # Replace with your actual API key\n",
    "    \"x-rapidapi-host\": \"phishing-url-risk-api.p.rapidapi.com\"\n",
    "}\n",
    "\n",
    "response = requests.get(api_url, headers=headers, params=querystring)\n",
    "\n",
    "if response.status_code == 200:\n",
    "    api_data = response.json()\n",
    "    print(\"API data successfully fetched.\")\n",
    "    print(api_data)\n",
    "else:\n",
    "    print(f\"Failed to fetch data from API. Status Code: {response.status_code}\")\n",
    "    print(\"Response Details:\", response.text)\n"
   ]
  },
  {
   "cell_type": "code",
   "execution_count": null,
   "id": "facfd25c",
   "metadata": {},
   "outputs": [],
   "source": []
  }
 ],
 "metadata": {
  "kernelspec": {
   "display_name": "Python 3 (ipykernel)",
   "language": "python",
   "name": "python3"
  },
  "language_info": {
   "codemirror_mode": {
    "name": "ipython",
    "version": 3
   },
   "file_extension": ".py",
   "mimetype": "text/x-python",
   "name": "python",
   "nbconvert_exporter": "python",
   "pygments_lexer": "ipython3",
   "version": "3.9.13"
  }
 },
 "nbformat": 4,
 "nbformat_minor": 5
}
